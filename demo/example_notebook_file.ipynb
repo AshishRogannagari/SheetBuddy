{
 "cells": [
  {
   "cell_type": "markdown",
   "metadata": {},
   "source": [
    "## Introduction\n",
    "\n",
    "🎉 Welcome to the interactive tutorial for the SheetBuddy library! 🎉\n",
    "\n",
    "This notebook will guide you through the amazing features and functionalities of SheetBuddy, making your data analysis and summary journey smooth and enjoyable. Let's get started! 🚀"
   ]
  },
  {
   "cell_type": "markdown",
   "metadata": {},
   "source": [
    "\n",
    "## Setup\n",
    "\n",
    "To start using SheetBuddy, you need to install the library. It's super easy! Just follow these steps:"
   ]
  },
  {
   "cell_type": "markdown",
   "metadata": {},
   "source": [
    "🎉 You're now ready to explore the powerful features of SheetBuddy and take your data analysis to the next level. Let's dive in! 📊✨"
   ]
  },
  {
   "cell_type": "markdown",
   "metadata": {},
   "source": [
    "### Install SheetBuddy\n",
    "\n",
    "Open your terminal or command prompt and type:\n",
    "\n",
    "```bash\n",
    "pip install sheetbuddy\n",
    "```"
   ]
  },
  {
   "cell_type": "markdown",
   "metadata": {},
   "source": [
    "### Upgrade to the Latest Version\n",
    "\n",
    "If you already have SheetBuddy and want to ensure you're using the latest and greatest version, type:\n",
    "\n",
    "```bash\n",
    "pip install sheetbuddy --upgrade\n",
    "```"
   ]
  },
  {
   "cell_type": "markdown",
   "metadata": {},
   "source": [
    "### Jupyter Notebook Users\n",
    "\n",
    "If you're working in a Jupyter notebook, you can install or upgrade SheetBuddy with this command:\n",
    "\n",
    "```bash\n",
    "!pip install sheetbuddy --upgrade\n",
    "```"
   ]
  },
  {
   "cell_type": "markdown",
   "metadata": {},
   "source": [
    "Now, let's get hands-on with SheetBuddy and see how it can help you with Exploratory Data Analysis (EDA). \n",
    "\n",
    "\n",
    "We'll walk through the steps to generate a comprehensive EDA report.\n",
    "\n",
    "\n",
    "### Step-by-Step Guide\n",
    "\n",
    "1. **Restart the Kernel**: After installing or upgrading SheetBuddy, restart your Jupyter notebook kernel.\n",
    "\n",
    "2. **Import SheetBuddy**: Import the SheetBuddy library.\n",
    "\n",
    "3. **File Path and Sheet Name**: Specify the path to your local dataset and the URL to your online dataset and the name of the output Excel file.\n",
    "\n",
    "4. **Create an Instance**: Create an instance of the SheetBuddy class by providing the file path to your dataset.\n",
    "\n",
    "5. **Generate EDA Report**: Use the `generate_eda_report` method to create an EDA report and save it to an Excel file.\n",
    "\n"
   ]
  },
  {
   "cell_type": "markdown",
   "metadata": {},
   "source": [
    "#### Usage :"
   ]
  },
  {
   "cell_type": "markdown",
   "metadata": {},
   "source": [
    "Example : "
   ]
  },
  {
   "cell_type": "code",
   "execution_count": null,
   "metadata": {},
   "outputs": [],
   "source": [
    "\n",
    "# Filepath to your dataset\n",
    "filepath = '/Users/sheetbuddy/Downloads/chromedownloads/Data/application_train.csv'\n",
    "\n",
    "# Name of the output Excel file\n",
    "sheetname = 'Train.xlsx'\n",
    "\n",
    "# Importing the SheetBuddy library\n",
    "from sheetbuddy import SheetBuddy\n",
    "\n",
    "# Creating an instance of SheetBuddy with the specified file path\n",
    "sb = SheetBuddy(filepath)\n",
    "\n",
    "# Generating the EDA report and saving it to the specified Excel file\n",
    "sb.generate_eda_report(sheetname)\n"
   ]
  },
  {
   "cell_type": "code",
   "execution_count": null,
   "metadata": {},
   "outputs": [],
   "source": [
    "# Filepath to your dataset\n",
    "filepath = '/Users/sheetbuddy/Downloads/chromedownloads/annual-enterprise-survey-2023-financial-year-provisional.csv'\n",
    "\n",
    "# Name of the output Excel file\n",
    "sheetname = 'Annual survey.xlsx'\n",
    "\n",
    "# Importing the SheetBuddy library\n",
    "from sheetbuddy import SheetBuddy\n",
    "\n",
    "# Creating an instance of SheetBuddy with the specified file path\n",
    "sb = SheetBuddy(filepath)\n",
    "\n",
    "# Generating the EDA report and saving it to the specified Excel file\n",
    "sb.generate_eda_report(sheetname)"
   ]
  },
  {
   "cell_type": "code",
   "execution_count": null,
   "metadata": {},
   "outputs": [],
   "source": [
    "# URL to your dataset\n",
    "url = 'https://data.cityofnewyork.us/resource/8wbx-tsch.json'\n",
    "\n",
    "# Name of the output Excel file\n",
    "sheetname = 'For_Hire_Vehicles.xlsx'\n",
    "\n",
    "# Importing the SheetBuddy library\n",
    "from sheetbuddy import SheetBuddy\n",
    "\n",
    "# Creating an instance of SheetBuddy with the specified URL\n",
    "sb = SheetBuddy(url)\n",
    "\n",
    "# Generating the EDA report and saving it to the specified Excel file\n",
    "sb.generate_eda_report(sheetname)"
   ]
  },
  {
   "cell_type": "markdown",
   "metadata": {},
   "source": [
    "<div align=\"center\" style=\"font-family: 'Segoe UI', Tahoma, Geneva, Verdana, sans-serif; font-size: 24px; color: #81C784; padding: 20px; border: 2px solid #81C784; border-radius: 10px; box-shadow: 0 4px 8px rgba(0, 0, 0, 0.2);\">\n",
    "    <p><strong>Thank you for using SheetBuddy!</strong></p>\n",
    "    <p>We hope this tool helps you with your data analysis needs.</p>\n",
    "    <img src=\"https://github.com/AshishRogannagari/SheetBuddy/assets/125127793/4c3ecb06-e2c9-4fe4-b79f-3d69c8bf9987\" alt=\"SheetBuddy Logo\" style=\"height: 90px;\">\n",
    "</div>"
   ]
  }
 ],
 "metadata": {
  "kernelspec": {
   "display_name": "Python 3",
   "language": "python",
   "name": "python3"
  },
  "language_info": {
   "codemirror_mode": {
    "name": "ipython",
    "version": 3
   },
   "file_extension": ".py",
   "mimetype": "text/x-python",
   "name": "python",
   "nbconvert_exporter": "python",
   "pygments_lexer": "ipython3",
   "version": "3.12.4"
  }
 },
 "nbformat": 4,
 "nbformat_minor": 2
}
